{
 "cells": [
  {
   "cell_type": "code",
   "execution_count": 16,
   "metadata": {
    "collapsed": false
   },
   "outputs": [
    {
     "name": "stdout",
     "output_type": "stream",
     "text": [
      "Populating the interactive namespace from numpy and matplotlib\n"
     ]
    },
    {
     "data": {
      "image/png": "[encoded data removed]",
      "text/plain": [
       "<matplotlib.figure.Figure at 0x13374ddb048>"
      ]
     },
     "metadata": {},
     "output_type": "display_data"
    }
   ],
   "source": [
    "import math\n",
    "import numpy\n",
    "import pyaudio\n",
    "import numpy.fft as fft\n",
    "from numpy.random import rand\n",
    "from matplotlib import pylab\n",
    "#from numba import jit\n",
    "%pylab inline\n",
    "\n",
    "#@jit\n",
    "def signal(time, rate, freq):\n",
    "    n = int(time*freq)\n",
    "    h = numpy.array([math.sqrt(0.18), .8, math.sqrt(0.18)])/sqrt(2)\n",
    "    #length = int(time * rate)\n",
    "    sample = int(rate/freq)\n",
    "    sig = numpy.sin(numpy.arange(0,sample)*math.pi/sample) #rand(sample)-0.5\n",
    "    signal = numpy.zeros(n * sample)\n",
    "    #signal = sig\n",
    "    signal[0:sample] = sig\n",
    "    #sig_n = sig\n",
    "    for i in range(1,n):\n",
    "        for j in range(sample):\n",
    "            signal[sample* i + j] = h[0]*signal[(i-1) * sample + (j-1)] + h[1]*signal[(i-1)*sample+j] + h[2]*signal[(i-1)*sample + (j+1)%sample]\n",
    "        #sig = sig_n\n",
    "        #signal = numpy.concatenate((signal,sig), axis =0)\n",
    "    plot(signal[-sample:])\n",
    "    return signal\n",
    "    \n",
    "def play_tone(stream, time=6, rate=44100, freq=100):\n",
    "    playback = signal(time, rate, freq) * 0.15\n",
    "\n",
    "    stream.write(playback.astype(numpy.float32).tostring())\n",
    "\n",
    "\n",
    "if __name__ == '__main__':\n",
    "    p = pyaudio.PyAudio()\n",
    "    stream = p.open(format=pyaudio.paFloat32,\n",
    "                    channels=1, rate=44100, output=1)\n",
    "\n",
    "    play_tone(stream)\n",
    "\n",
    "    stream.close()\n",
    "    p.terminate()"
   ]
  },
  {
   "cell_type": "code",
   "execution_count": null,
   "metadata": {
    "collapsed": true
   },
   "outputs": [],
   "source": [
    "def signal(time, rate, freq):\n",
    "    n = int(time*freq)\n",
    "    h = numpy.array([.2, .6, .2])\n",
    "    #length = int(time * rate)\n",
    "    sample = int(rate/freq)\n",
    "    sig = rand(sample)-0.5\n",
    "    signal = numpy.zeros(n * sample)\n",
    "    #signal = sig\n",
    "    signal[0:sample] = sig\n",
    "    #sig_n = sig\n",
    "    for i in range(1,n):\n",
    "        #for j in range(sample):\n",
    "        signal[sample*i:sample*(i+1)] = h[0]*signal[(i-1)*sample:i*sample-1]\n",
    "            signal[sample* i + j] = h[0]*signal[(i-1) * sample + (j-1)] + h[1]*signal[(i-1)*sample+j] + h[2]*signal[(i-1)*sample + (j+1)%sample]\n",
    "        #sig = sig_n\n",
    "        #signal = numpy.concatenate((signal,sig), axis =0)\n",
    "    plot(signal[-sample:])\n",
    "    return signal"
   ]
  },
  {
   "cell_type": "code",
   "execution_count": 7,
   "metadata": {
    "collapsed": true
   },
   "outputs": [],
   "source": [
    "a=rand(5)"
   ]
  },
  {
   "cell_type": "code",
   "execution_count": null,
   "metadata": {
    "collapsed": true
   },
   "outputs": [],
   "source": []
  }
 ],
 "metadata": {
  "kernelspec": {
   "display_name": "Python 3",
   "language": "python",
   "name": "python3"
  },
  "language_info": {
   "codemirror_mode": {
    "name": "ipython",
    "version": 3
   },
   "file_extension": ".py",
   "mimetype": "text/x-python",
   "name": "python",
   "nbconvert_exporter": "python",
   "pygments_lexer": "ipython3",
   "version": "3.5.1"
  }
 },
 "nbformat": 4,
 "nbformat_minor": 0
}
